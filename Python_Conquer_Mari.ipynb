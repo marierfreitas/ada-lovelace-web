{
  "nbformat": 4,
  "nbformat_minor": 0,
  "metadata": {
    "colab": {
      "name": "Python_Conquer_Mari.ipynb",
      "provenance": [],
      "authorship_tag": "ABX9TyMh2/sXR2OXb88AdIwAncen",
      "include_colab_link": true
    },
    "kernelspec": {
      "name": "python3",
      "display_name": "Python 3"
    },
    "language_info": {
      "name": "python"
    }
  },
  "cells": [
    {
      "cell_type": "markdown",
      "metadata": {
        "id": "view-in-github",
        "colab_type": "text"
      },
      "source": [
        "<a href=\"https://colab.research.google.com/github/marierfreitas/ada-lovelace-web/blob/main/Python_Conquer_Mari.ipynb\" target=\"_parent\"><img src=\"https://colab.research.google.com/assets/colab-badge.svg\" alt=\"Open In Colab\"/></a>"
      ]
    },
    {
      "cell_type": "code",
      "execution_count": 1,
      "metadata": {
        "colab": {
          "base_uri": "https://localhost:8080/"
        },
        "id": "BG3VAFO9Kwur",
        "outputId": "52bee30c-dd7e-4973-a207-db1747924dfc"
      },
      "outputs": [
        {
          "output_type": "stream",
          "name": "stdout",
          "text": [
            "Hello word!\n"
          ]
        }
      ],
      "source": [
        "print(\"Hello word!\")"
      ]
    },
    {
      "cell_type": "code",
      "source": [
        "print(10+10)"
      ],
      "metadata": {
        "colab": {
          "base_uri": "https://localhost:8080/"
        },
        "id": "9Nl_elyUPWbQ",
        "outputId": "ce9317b2-1b14-4e1e-cf31-4ae2e6d9a6a5"
      },
      "execution_count": 3,
      "outputs": [
        {
          "output_type": "stream",
          "name": "stdout",
          "text": [
            "20\n"
          ]
        }
      ]
    },
    {
      "cell_type": "code",
      "source": [
        "nome_completo=\"Mariane Freitas\"\n",
        "print(nome_completo)"
      ],
      "metadata": {
        "colab": {
          "base_uri": "https://localhost:8080/"
        },
        "id": "wQosiEoJPpZh",
        "outputId": "2b2c0109-6035-48fd-e94d-8339c9cdc680"
      },
      "execution_count": 19,
      "outputs": [
        {
          "output_type": "stream",
          "name": "stdout",
          "text": [
            "Mariane Freitas\n"
          ]
        }
      ]
    },
    {
      "cell_type": "code",
      "source": [
        "x=12\n",
        "y=4\n",
        "\n",
        "print(x+y)"
      ],
      "metadata": {
        "colab": {
          "base_uri": "https://localhost:8080/"
        },
        "id": "FSWnAiNVP1rM",
        "outputId": "1192fa99-095b-4127-c618-e8d75bb5d34f"
      },
      "execution_count": 20,
      "outputs": [
        {
          "output_type": "stream",
          "name": "stdout",
          "text": [
            "16\n"
          ]
        }
      ]
    },
    {
      "cell_type": "code",
      "source": [
        "x=12\n",
        "y=4\n",
        "\n",
        "print(x-y)"
      ],
      "metadata": {
        "colab": {
          "base_uri": "https://localhost:8080/"
        },
        "id": "PfnGZnn1QfFv",
        "outputId": "c6cfb2f8-cec1-416e-cab2-1009c87ca87e"
      },
      "execution_count": 21,
      "outputs": [
        {
          "output_type": "stream",
          "name": "stdout",
          "text": [
            "8\n"
          ]
        }
      ]
    },
    {
      "cell_type": "code",
      "source": [
        "x=12\n",
        "y=4\n",
        "\n",
        "print((x+y)**2)"
      ],
      "metadata": {
        "colab": {
          "base_uri": "https://localhost:8080/"
        },
        "id": "jqRp9OYxQ3Ba",
        "outputId": "5c99bc0a-1bf7-47b1-fa7f-d8d7be2b37e2"
      },
      "execution_count": 22,
      "outputs": [
        {
          "output_type": "stream",
          "name": "stdout",
          "text": [
            "256\n"
          ]
        }
      ]
    },
    {
      "cell_type": "code",
      "source": [
        "x=12\n",
        "y=4\n",
        "\n",
        "raiz_quadrada=y**(1/2)\n",
        "print(raiz_quadrada)"
      ],
      "metadata": {
        "colab": {
          "base_uri": "https://localhost:8080/"
        },
        "id": "j4AgvDm8RTgB",
        "outputId": "206bf8e1-da71-43a9-cd8c-ded029f370c6"
      },
      "execution_count": 23,
      "outputs": [
        {
          "output_type": "stream",
          "name": "stdout",
          "text": [
            "2.0\n"
          ]
        }
      ]
    },
    {
      "cell_type": "code",
      "source": [
        "#Mão na massa 3\n",
        "#Exercício 1\n",
        "idade= int(input(\"Dgite a sua idade \"))\n",
        "\n",
        "if idade < 10:\n",
        "  print(\"Você é uma criança\")\n",
        "elif idade < 20 and idade >= 10:\n",
        "  print(\"Você é um adolescente\")\n",
        "elif idade < 40 and idade >= 20:\n",
        "  print(\"Você é um adulto\")\n",
        "else:\n",
        "  print(\"Você é um idoso\")\n"
      ],
      "metadata": {
        "colab": {
          "base_uri": "https://localhost:8080/"
        },
        "id": "ElmkwVvSaCJH",
        "outputId": "ee1e81e4-8fa6-46a9-81cc-ac8e04973792"
      },
      "execution_count": 27,
      "outputs": [
        {
          "output_type": "stream",
          "name": "stdout",
          "text": [
            "Dgite a sua idade 30\n",
            "Você é um adulto\n"
          ]
        }
      ]
    },
    {
      "cell_type": "code",
      "source": [
        "#Execicio 2\n",
        "numero = int(input(\"Digite um número \"))\n",
        "\n",
        "if numero == 0:\n",
        "  print(numero,\" é um número par\")\n",
        "else:\n",
        "  print(numero,\" é um número ímpar\")\n",
        "\n",
        "\n"
      ],
      "metadata": {
        "colab": {
          "base_uri": "https://localhost:8080/"
        },
        "id": "1x0DGAqHavHc",
        "outputId": "d29488de-1d9e-4cf8-a6f4-c6e204c9bdd8"
      },
      "execution_count": 30,
      "outputs": [
        {
          "output_type": "stream",
          "name": "stdout",
          "text": [
            "Digite um número 25\n",
            "25  é um número ímpar\n"
          ]
        }
      ]
    },
    {
      "cell_type": "code",
      "source": [
        "#Máo na massa 4\n",
        "#Exercício 1\n",
        "\n",
        "def valor_raiz_quadrada(numero):\n",
        "  raiz_quadrada = numero**(1/2)\n",
        "  return raiz_quadrada\n",
        "\n",
        "numero = int(input(\"Digite um número \"))\n",
        "resposta = valor_raiz_quadrada(numero)\n",
        "\n",
        "print(\"A Raiz quadrada de \", numero,\" é \", resposta)"
      ],
      "metadata": {
        "colab": {
          "base_uri": "https://localhost:8080/"
        },
        "id": "0LMq9wN_ez6Y",
        "outputId": "22ed5b51-65e0-4c6b-bac5-018e2d9043e2"
      },
      "execution_count": 32,
      "outputs": [
        {
          "output_type": "stream",
          "name": "stdout",
          "text": [
            "Digite um número 25\n",
            "A Raiz quadrada de  25  é  5.0\n"
          ]
        }
      ]
    },
    {
      "cell_type": "code",
      "source": [
        "#Exercício 2\n",
        "\n",
        "def valor_multiplo_234(numero):\n",
        "  if numero%2 == 0 and numero%3 == 0 and numero%4 == 0:\n",
        "    return print(\"O número \", numero,\" é multiplo de 2, 3 e 4\")\n",
        "  else:\n",
        "    return print(\"O número \", numero,\" não é multiplo de 2, 3 e 4\")\n",
        "\n",
        "numero = int(input(\"Digite um número \"))\n",
        "valor_multiplo_234(numero)\n"
      ],
      "metadata": {
        "colab": {
          "base_uri": "https://localhost:8080/"
        },
        "id": "vxRKPY9RgnZn",
        "outputId": "22a199a7-a736-47f4-e6f7-a5a1fb31249d"
      },
      "execution_count": 37,
      "outputs": [
        {
          "output_type": "stream",
          "name": "stdout",
          "text": [
            "Digite um número 6\n",
            "O número  6  não é multiplo de 2, 3 e 4\n"
          ]
        }
      ]
    },
    {
      "cell_type": "code",
      "source": [
        "#Desafio conquer 18\n",
        "#Resultado da fórmula de bhaskara axˆ2 + bx + C = 0 / x = -b +/- raiz quadrada de bˆ2 - 4 ac dividido por 2*a\n",
        "\n",
        "def formula_de_bhaskara(a,b,c):\n",
        "  equacao = \"{}xˆ2+{}x+{}\".format(a,b,c)\n",
        "  x1 = ((b* -1) + (((b**2) - (4*a*c)) **(1/2)))/(2*a)\n",
        "  x2 = ((b* -1) - (((b**2) - (4*a*c)) **(1/2)))/(2*a)\n",
        "  return print(\"Equação = \",equacao,\" x1 = \", x1,\" x2 = \", x2)\n",
        "\n",
        "a = int(input(\"Digite o valor de a \"))\n",
        "b = int(input(\"Digite o valor de b \"))\n",
        "c = int(input(\"Digite o valor de c \"))\n",
        "\n",
        "if a < 0 or b < 0 or c < 0:\n",
        "  print(\"Digite novamente os valores de a, b e c\")\n",
        "  a = int(input(\"Digite o valor de a \"))\n",
        "  b = int(input(\"Digite o valor de b \"))\n",
        "  c = int(input(\"Digite o valor de c \")) \n",
        "  \n",
        "if a < b or b < c:\n",
        "  print(\"Digite novamente os valores de a, b e c\")\n",
        "  a = int(input(\"Digite o valor de a \"))\n",
        "  b = int(input(\"Digite o valor de b \"))\n",
        "  c = int(input(\"Digite o valor de c \"))\n",
        "\n",
        "\n",
        "formula_de_bhaskara(a,b,c)"
      ],
      "metadata": {
        "colab": {
          "base_uri": "https://localhost:8080/"
        },
        "id": "w_ZrV9QynWrI",
        "outputId": "7a9c3672-fbe9-4be4-94eb-6154ba6a6cff"
      },
      "execution_count": 40,
      "outputs": [
        {
          "output_type": "stream",
          "name": "stdout",
          "text": [
            "Digite o valor de a 256\n",
            "Digite o valor de b 68\n",
            "Digite o valor de c 55\n",
            "Equação =  256xˆ2+68x+55  x1 =  (-0.13281249999999997+0.44407723409757227j)  x2 =  (-0.13281250000000003-0.44407723409757227j)\n"
          ]
        }
      ]
    }
  ]
}